{
  "nbformat": 4,
  "nbformat_minor": 0,
  "metadata": {
    "colab": {
      "provenance": [],
      "authorship_tag": "ABX9TyMPca9iFm90dzYqiyGSBOWC",
      "include_colab_link": true
    },
    "kernelspec": {
      "name": "python3",
      "display_name": "Python 3"
    },
    "language_info": {
      "name": "python"
    }
  },
  "cells": [
    {
      "cell_type": "markdown",
      "metadata": {
        "id": "view-in-github",
        "colab_type": "text"
      },
      "source": [
        "<a href=\"https://colab.research.google.com/gist/Lotosky/f6b429b624ac2f1390c5119674551999/convert-binary-to-decimal-to-binary.ipynb\" target=\"_parent\"><img src=\"https://colab.research.google.com/assets/colab-badge.svg\" alt=\"Open In Colab\"/></a>"
      ]
    },
    {
      "cell_type": "code",
      "execution_count": 1,
      "metadata": {
        "colab": {
          "base_uri": "https://localhost:8080/"
        },
        "id": "71L22IdBvqGu",
        "outputId": "5088f88e-2cae-4f5d-c23c-05f56974827a"
      },
      "outputs": [
        {
          "output_type": "stream",
          "name": "stdout",
          "text": [
            "b. Convert Binary to Decimal\n",
            "d. Convert Decimal to Binary\n",
            "q. Exit\n",
            "Choose an option: 15\n",
            "Invalid choice. Please try again.\n",
            "b. Convert Binary to Decimal\n",
            "d. Convert Decimal to Binary\n",
            "q. Exit\n",
            "Choose an option: d\n",
            "Enter a decimal number: 15\n",
            "Binary number: 0b1111\n",
            "b. Convert Binary to Decimal\n",
            "d. Convert Decimal to Binary\n",
            "q. Exit\n",
            "Choose an option: q\n",
            "Goodbye!\n"
          ]
        }
      ],
      "source": [
        "def binary_to_decimal(binary_string):\n",
        "    decimal_value = int(binary_string, 2)\n",
        "    return decimal_value\n",
        "\n",
        "def decimal_to_binary(decimal_value):\n",
        "    binary_string = bin(decimal_value)\n",
        "    return binary_string\n",
        "\n",
        "def main():\n",
        "    while True:\n",
        "        print(\"b. Convert Binary to Decimal\")\n",
        "        print(\"d. Convert Decimal to Binary\")\n",
        "        print(\"q. Exit\")\n",
        "\n",
        "        choice = input(\"Choose an option: \")\n",
        "\n",
        "        if choice == \"b\":\n",
        "            binary_number = input(\"Enter a binary number: \")\n",
        "            decimal_result = binary_to_decimal(binary_number)\n",
        "            print(\"Decimal number:\", decimal_result)\n",
        "        elif choice == \"d\":\n",
        "            decimal_number = int(input(\"Enter a decimal number: \"))\n",
        "            binary_result = decimal_to_binary(decimal_number)\n",
        "            print(\"Binary number:\", binary_result)\n",
        "        elif choice == \"q\":\n",
        "            print(\"Goodbye!\")\n",
        "            break\n",
        "        else:\n",
        "            print(\"Invalid choice. Please try again.\")\n",
        "\n",
        "if __name__ == \"__main__\":\n",
        "    main()\n"
      ]
    }
  ]
}